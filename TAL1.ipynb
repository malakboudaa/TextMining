{
 "cells": [
  {
   "cell_type": "code",
   "execution_count": 6,
   "id": "f4a658bc",
   "metadata": {
    "scrolled": true
   },
   "outputs": [
    {
     "name": "stderr",
     "output_type": "stream",
     "text": [
      "[nltk_data] Downloading package stopwords to\n",
      "[nltk_data]     C:\\Users\\ASUS\\AppData\\Roaming\\nltk_data...\n",
      "[nltk_data]   Package stopwords is already up-to-date!\n",
      "[nltk_data] Downloading package punkt to\n",
      "[nltk_data]     C:\\Users\\ASUS\\AppData\\Roaming\\nltk_data...\n",
      "[nltk_data]   Package punkt is already up-to-date!\n",
      "[nltk_data] Downloading package wordnet to\n",
      "[nltk_data]     C:\\Users\\ASUS\\AppData\\Roaming\\nltk_data...\n",
      "[nltk_data]   Package wordnet is already up-to-date!\n"
     ]
    },
    {
     "name": "stdout",
     "output_type": "stream",
     "text": [
      "Requirement already satisfied: wordcloud in c:\\users\\asus\\anaconda3\\lib\\site-packages (1.9.3)\n",
      "Requirement already satisfied: numpy>=1.6.1 in c:\\users\\asus\\anaconda3\\lib\\site-packages (from wordcloud) (1.24.3)\n",
      "Requirement already satisfied: pillow in c:\\users\\asus\\anaconda3\\lib\\site-packages (from wordcloud) (9.4.0)\n",
      "Requirement already satisfied: matplotlib in c:\\users\\asus\\anaconda3\\lib\\site-packages (from wordcloud) (3.7.2)\n",
      "Requirement already satisfied: contourpy>=1.0.1 in c:\\users\\asus\\anaconda3\\lib\\site-packages (from matplotlib->wordcloud) (1.0.5)\n",
      "Requirement already satisfied: cycler>=0.10 in c:\\users\\asus\\anaconda3\\lib\\site-packages (from matplotlib->wordcloud) (0.11.0)\n",
      "Requirement already satisfied: fonttools>=4.22.0 in c:\\users\\asus\\anaconda3\\lib\\site-packages (from matplotlib->wordcloud) (4.25.0)\n",
      "Requirement already satisfied: kiwisolver>=1.0.1 in c:\\users\\asus\\anaconda3\\lib\\site-packages (from matplotlib->wordcloud) (1.4.4)\n",
      "Requirement already satisfied: packaging>=20.0 in c:\\users\\asus\\anaconda3\\lib\\site-packages (from matplotlib->wordcloud) (23.1)\n",
      "Requirement already satisfied: pyparsing<3.1,>=2.3.1 in c:\\users\\asus\\anaconda3\\lib\\site-packages (from matplotlib->wordcloud) (3.0.9)\n",
      "Requirement already satisfied: python-dateutil>=2.7 in c:\\users\\asus\\anaconda3\\lib\\site-packages (from matplotlib->wordcloud) (2.8.2)\n",
      "Requirement already satisfied: six>=1.5 in c:\\users\\asus\\anaconda3\\lib\\site-packages (from python-dateutil>=2.7->matplotlib->wordcloud) (1.16.0)\n"
     ]
    }
   ],
   "source": [
    "import pandas as pd\n",
    "import re \n",
    "from nltk.corpus import stopwords\n",
    "from nltk.tokenize import word_tokenize\n",
    "\n",
    "#naturel langage tool kit \n",
    "import nltk\n",
    "#nltk stopwords\n",
    "nltk.download('stopwords')\n",
    "#nltk phrase\n",
    "nltk.download('punkt')\n",
    "#utilisé pour la lemmatisation, où les formes fléchies \n",
    "#des mots sont ramenées à leur forme de base \n",
    "nltk.download('wordnet')\n",
    "!pip install wordcloud\n",
    "\n"
   ]
  },
  {
   "cell_type": "code",
   "execution_count": 7,
   "id": "7f22e396",
   "metadata": {},
   "outputs": [],
   "source": [
    "Doc1 = \"La collecte de ces données a plusieurs objectifs. Elle permet de constituer en temps réel une cohorte de patients infectés, qui inclut aujourd’hui plus de 500 000 patients et qui est devenue une base de données de référence dans le monde\"\n",
    "\n",
    "Doc2 = \"Cette base de données alimente près de 60 travaux de recherche des Hôpitaux de Paris portant sur les caractéristiques cliniques de la maladie, sur l’impact de certains médicaments ou encore sur l’étude des facteurs aggravants\"\n",
    "\n",
    "Doc3 = \"En y injectant de l’intelligence artificielle, l’AP-HP et ses partenaires mènent également des études de prédiction et testent virtuellement des solutions capables de stopper le virus. Par exemple, ils développent des algorithmes d’apprentissage profond (deep learning) utilisant les données de radiographie et de scanner pour créer des outils fiables de prédiction de formes sévères de Covid-19\"\n",
    "\n",
    "Doc4 = \"L’exploitation de ces données permet également d’établir des statistiques et des visualisations, et de fournir des informations réutilisables. Elles sont mises à disposition des équipes d’encadrement des unités de soin sur un portail dédié pour les aider à mieux comprendre le virus, ses évolutions et sa diffusion\""
   ]
  },
  {
   "cell_type": "code",
   "execution_count": 8,
   "id": "e6173ee5",
   "metadata": {},
   "outputs": [],
   "source": [
    "def clean_text(text):\n",
    "    text = re.sub(\"\\d+|\\.|,|Md$|%|:$|\\)|\\(|\\n\",'',Doc1).lower()\n",
    "    return text"
   ]
  },
  {
   "cell_type": "code",
   "execution_count": 9,
   "id": "71c44c11",
   "metadata": {},
   "outputs": [
    {
     "data": {
      "text/plain": [
       "['au',\n",
       " 'aux',\n",
       " 'avec',\n",
       " 'ce',\n",
       " 'ces',\n",
       " 'dans',\n",
       " 'de',\n",
       " 'des',\n",
       " 'du',\n",
       " 'elle',\n",
       " 'en',\n",
       " 'et',\n",
       " 'eux',\n",
       " 'il',\n",
       " 'ils',\n",
       " 'je',\n",
       " 'la',\n",
       " 'le',\n",
       " 'les',\n",
       " 'leur',\n",
       " 'lui',\n",
       " 'ma',\n",
       " 'mais',\n",
       " 'me',\n",
       " 'même',\n",
       " 'mes',\n",
       " 'moi',\n",
       " 'mon',\n",
       " 'ne',\n",
       " 'nos',\n",
       " 'notre',\n",
       " 'nous',\n",
       " 'on',\n",
       " 'ou',\n",
       " 'par',\n",
       " 'pas',\n",
       " 'pour',\n",
       " 'qu',\n",
       " 'que',\n",
       " 'qui',\n",
       " 'sa',\n",
       " 'se',\n",
       " 'ses',\n",
       " 'son',\n",
       " 'sur',\n",
       " 'ta',\n",
       " 'te',\n",
       " 'tes',\n",
       " 'toi',\n",
       " 'ton',\n",
       " 'tu',\n",
       " 'un',\n",
       " 'une',\n",
       " 'vos',\n",
       " 'votre',\n",
       " 'vous',\n",
       " 'c',\n",
       " 'd',\n",
       " 'j',\n",
       " 'l',\n",
       " 'à',\n",
       " 'm',\n",
       " 'n',\n",
       " 's',\n",
       " 't',\n",
       " 'y',\n",
       " 'été',\n",
       " 'étée',\n",
       " 'étées',\n",
       " 'étés',\n",
       " 'étant',\n",
       " 'étante',\n",
       " 'étants',\n",
       " 'étantes',\n",
       " 'suis',\n",
       " 'es',\n",
       " 'est',\n",
       " 'sommes',\n",
       " 'êtes',\n",
       " 'sont',\n",
       " 'serai',\n",
       " 'seras',\n",
       " 'sera',\n",
       " 'serons',\n",
       " 'serez',\n",
       " 'seront',\n",
       " 'serais',\n",
       " 'serait',\n",
       " 'serions',\n",
       " 'seriez',\n",
       " 'seraient',\n",
       " 'étais',\n",
       " 'était',\n",
       " 'étions',\n",
       " 'étiez',\n",
       " 'étaient',\n",
       " 'fus',\n",
       " 'fut',\n",
       " 'fûmes',\n",
       " 'fûtes',\n",
       " 'furent',\n",
       " 'sois',\n",
       " 'soit',\n",
       " 'soyons',\n",
       " 'soyez',\n",
       " 'soient',\n",
       " 'fusse',\n",
       " 'fusses',\n",
       " 'fût',\n",
       " 'fussions',\n",
       " 'fussiez',\n",
       " 'fussent',\n",
       " 'ayant',\n",
       " 'ayante',\n",
       " 'ayantes',\n",
       " 'ayants',\n",
       " 'eu',\n",
       " 'eue',\n",
       " 'eues',\n",
       " 'eus',\n",
       " 'ai',\n",
       " 'as',\n",
       " 'avons',\n",
       " 'avez',\n",
       " 'ont',\n",
       " 'aurai',\n",
       " 'auras',\n",
       " 'aura',\n",
       " 'aurons',\n",
       " 'aurez',\n",
       " 'auront',\n",
       " 'aurais',\n",
       " 'aurait',\n",
       " 'aurions',\n",
       " 'auriez',\n",
       " 'auraient',\n",
       " 'avais',\n",
       " 'avait',\n",
       " 'avions',\n",
       " 'aviez',\n",
       " 'avaient',\n",
       " 'eut',\n",
       " 'eûmes',\n",
       " 'eûtes',\n",
       " 'eurent',\n",
       " 'aie',\n",
       " 'aies',\n",
       " 'ait',\n",
       " 'ayons',\n",
       " 'ayez',\n",
       " 'aient',\n",
       " 'eusse',\n",
       " 'eusses',\n",
       " 'eût',\n",
       " 'eussions',\n",
       " 'eussiez',\n",
       " 'eussent']"
      ]
     },
     "execution_count": 9,
     "metadata": {},
     "output_type": "execute_result"
    }
   ],
   "source": [
    " stopwords.words('french')"
   ]
  },
  {
   "cell_type": "code",
   "execution_count": 10,
   "id": "06c41bd7",
   "metadata": {},
   "outputs": [
    {
     "data": {
      "text/plain": [
       "'la collecte de ces données a plusieurs objectifs elle permet de constituer en temps réel une cohorte de patients infectés qui inclut aujourd’hui plus de   patients et qui est devenue une base de données de référence dans le monde'"
      ]
     },
     "execution_count": 10,
     "metadata": {},
     "output_type": "execute_result"
    }
   ],
   "source": [
    "clean_text(Doc1)"
   ]
  },
  {
   "cell_type": "code",
   "execution_count": 11,
   "id": "644bdb1d",
   "metadata": {},
   "outputs": [
    {
     "name": "stdout",
     "output_type": "stream",
     "text": [
      "['collecte', 'données', 'a', 'plusieurs', 'objectifs', 'permet', 'constituer', 'temps', 'réel', 'cohorte', 'patients', 'infectés', 'inclut', 'aujourd', '’', 'hui', 'plus', 'patients', 'devenue', 'base', 'données', 'référence', 'monde']\n"
     ]
    }
   ],
   "source": [
    "#recuperer les stopwords\n",
    "StopWord = set(stopwords.words('french'))\n",
    "\n",
    "#wordtokenize (tokenisation) est utilisée pour diviser le text \n",
    "#clean_text pour supprimer tt les caractere dont on a pas besoins \n",
    "#du text (défini la fonction en haut) \n",
    "\n",
    "DocList = word_tokenize(clean_text(Doc1).lower())\n",
    "DocFil = [w for w in DocList if not w in StopWord]\n",
    "print (DocFil)\n"
   ]
  },
  {
   "cell_type": "code",
   "execution_count": 12,
   "id": "454f9d0b",
   "metadata": {},
   "outputs": [
    {
     "data": {
      "text/plain": [
       "['collecte',\n",
       " 'données',\n",
       " 'a',\n",
       " 'plusieurs',\n",
       " 'objectifs',\n",
       " 'permet',\n",
       " 'constituer',\n",
       " 'temp',\n",
       " 'réel',\n",
       " 'cohorte',\n",
       " 'patient',\n",
       " 'infectés',\n",
       " 'inclut',\n",
       " 'aujourd',\n",
       " '’',\n",
       " 'hui',\n",
       " 'plus',\n",
       " 'patient',\n",
       " 'devenue',\n",
       " 'base',\n",
       " 'données',\n",
       " 'référence',\n",
       " 'monde']"
      ]
     },
     "execution_count": 12,
     "metadata": {},
     "output_type": "execute_result"
    }
   ],
   "source": [
    "#module pour lemmatiser \n",
    "from nltk.stem import WordNetLemmatizer\n",
    "#lemmatisation  \n",
    "#stem pour le nettoyages\n",
    "lemmatizer = WordNetLemmatizer()\n",
    "DocStem = [lemmatizer.lemmatize(w) for w in DocFil]\n",
    "DocStem"
   ]
  },
  {
   "cell_type": "code",
   "execution_count": 13,
   "id": "33bd2502",
   "metadata": {},
   "outputs": [],
   "source": [
    "#les modules/libraires de la représentation graphiques \n",
    "import collections, itertools, seaborn\n",
    "import matplotlib.pyplot as plt "
   ]
  },
  {
   "cell_type": "code",
   "execution_count": 14,
   "id": "1b2e62d2",
   "metadata": {},
   "outputs": [],
   "source": [
    "# le compteur compte les nombre d'occurences de chaque élément dans une lisTe (méthode de la librairie -collection-)\n",
    "CountWord = collections.Counter(DocStem)\n",
    "#CountWord\n",
    "#creer un tableau de deux colonnes (mots et occurences)\n",
    "DfCountWord = pd.DataFrame(CountWord.most_common(15),columns = [\"Mots\",\"Occurences\"])\n",
    "#DfCountWord"
   ]
  },
  {
   "cell_type": "code",
   "execution_count": 15,
   "id": "971a681b",
   "metadata": {},
   "outputs": [
    {
     "data": {
      "text/plain": [
       "<Axes: ylabel='Mots'>"
      ]
     },
     "execution_count": 15,
     "metadata": {},
     "output_type": "execute_result"
    },
    {
     "data": {
      "image/png": "[encoded data removed]",
      "text/plain": [
       "<Figure size 800x800 with 1 Axes>"
      ]
     },
     "metadata": {},
     "output_type": "display_data"
    }
   ],
   "source": [
    "# avec le barplot on cree le graphe\n",
    "#en utilisant pandas\n",
    "fig, ax = plt.subplots(figsize=(8, 8))\n",
    "DfCountWord.sort_values(by='Occurences').plot.barh(x='Mots',\n",
    "                                                   y='Occurences',\n",
    "                                                   ax=ax,\n",
    "                                                   color=\"pink\")\n"
   ]
  },
  {
   "cell_type": "code",
   "execution_count": 20,
   "id": "16e0c3ba",
   "metadata": {},
   "outputs": [],
   "source": [
    "#\n",
    "from wordcloud import WordCloud, STOPWORDS"
   ]
  },
  {
   "cell_type": "code",
   "execution_count": 23,
   "id": "6915ab4c",
   "metadata": {},
   "outputs": [],
   "source": [
    "Doc = open(r'C:\\Users\\ASUS\\Desktop\\DU DATA SCIENCE\\TP\\Textmining\\DiscoursMacron.txt', 'r', encoding='utf-8')\n",
    "Disc0 = Doc.readline()\n",
    "Disc1 = [re.sub(',|\\.', ' ', w) for w in Disc0]\n",
    "Disc1 = [re.sub('\\W|\\d+', ' ', w) for w in Disc0]\n",
    "\n",
    "Disc = \" \".join(Disc1)\n"
   ]
  },
  {
   "cell_type": "code",
   "execution_count": 24,
   "id": "21892af7",
   "metadata": {},
   "outputs": [
    {
     "data": {
      "text/plain": [
       "<wordcloud.wordcloud.WordCloud at 0x22db133f3d0>"
      ]
     },
     "execution_count": 24,
     "metadata": {},
     "output_type": "execute_result"
    }
   ],
   "source": [
    "WC = WordCloud(width=800, height=800, background_color=\"white\", \n",
    "               stopwords=StopWord, min_font_size=12)\n",
    "WC.generate(Disc.lower())\n",
    "#dhsdhfsfdh"
   ]
  },
  {
   "cell_type": "code",
   "execution_count": null,
   "id": "b6711c38",
   "metadata": {},
   "outputs": [],
   "source": []
  }
 ],
 "metadata": {
  "kernelspec": {
   "display_name": "Python 3 (ipykernel)",
   "language": "python",
   "name": "python3"
  },
  "language_info": {
   "codemirror_mode": {
    "name": "ipython",
    "version": 3
   },
   "file_extension": ".py",
   "mimetype": "text/x-python",
   "name": "python",
   "nbconvert_exporter": "python",
   "pygments_lexer": "ipython3",
   "version": "3.11.5"
  }
 },
 "nbformat": 4,
 "nbformat_minor": 5
}
