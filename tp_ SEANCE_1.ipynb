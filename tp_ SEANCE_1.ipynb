{
 "cells": [
  {
   "cell_type": "code",
   "execution_count": 2,
   "id": "50f0fbb8",
   "metadata": {},
   "outputs": [
    {
     "data": {
      "text/plain": [
       "'def'"
      ]
     },
     "execution_count": 2,
     "metadata": {},
     "output_type": "execute_result"
    }
   ],
   "source": [
    "import re\n",
    "m = re.search('(?<=abc)def', 'abcdef')\n",
    "m.group(0)"
   ]
  },
  {
   "cell_type": "code",
   "execution_count": 9,
   "id": "2ab7b384",
   "metadata": {},
   "outputs": [],
   "source": [
    "text = \"je m'appelle malak et je suis née en 18/08/1996 et j'ai 27 ans, je suis venue en france en 20235\""
   ]
  },
  {
   "cell_type": "code",
   "execution_count": 15,
   "id": "fe7309f0",
   "metadata": {},
   "outputs": [
    {
     "data": {
      "text/plain": [
       "[]"
      ]
     },
     "execution_count": 15,
     "metadata": {},
     "output_type": "execute_result"
    }
   ],
   "source": [
    "re.findall('\\d{2}/\\d{2}/\\d{2}')"
   ]
  },
  {
   "cell_type": "code",
   "execution_count": 18,
   "id": "fe6a81ee",
   "metadata": {},
   "outputs": [
    {
     "data": {
      "text/plain": [
       "\"je m'appelle malak et je suis née en xxxxxxx et j'ai 27 ans, je suis venue en france en 20235\""
      ]
     },
     "execution_count": 18,
     "metadata": {},
     "output_type": "execute_result"
    }
   ],
   "source": [
    "re.sub('\\d{2}/\\d{2}/\\d{2,4}', 'xxxxxxx',text)"
   ]
  },
  {
   "cell_type": "code",
   "execution_count": 19,
   "id": "c1a36b06",
   "metadata": {},
   "outputs": [],
   "source": [
    "animaux = \"giraffe, lion, tigre, chat, chien\""
   ]
  },
  {
   "cell_type": "code",
   "execution_count": 25,
   "id": "87aabb38",
   "metadata": {},
   "outputs": [
    {
     "data": {
      "text/plain": [
       "<re.Match object; span=(0, 6), match='giraff'>"
      ]
     },
     "execution_count": 25,
     "metadata": {},
     "output_type": "execute_result"
    }
   ],
   "source": [
    "#re.search(\"giraffes\",animaux)\n",
    "re.match(\"giraffe\",animaux)\n",
    "#re.fullmatch(\"giraffe\",animaux) "
   ]
  },
  {
   "cell_type": "code",
   "execution_count": null,
   "id": "96fff743",
   "metadata": {},
   "outputs": [],
   "source": []
  }
 ],
 "metadata": {
  "kernelspec": {
   "display_name": "Python 3 (ipykernel)",
   "language": "python",
   "name": "python3"
  },
  "language_info": {
   "codemirror_mode": {
    "name": "ipython",
    "version": 3
   },
   "file_extension": ".py",
   "mimetype": "text/x-python",
   "name": "python",
   "nbconvert_exporter": "python",
   "pygments_lexer": "ipython3",
   "version": "3.11.5"
  }
 },
 "nbformat": 4,
 "nbformat_minor": 5
}
